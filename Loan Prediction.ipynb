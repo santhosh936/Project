{
 "cells": [
  {
   "cell_type": "markdown",
   "id": "21c27d99",
   "metadata": {},
   "source": [
    "# Importing necessary modules"
   ]
  },
  {
   "cell_type": "code",
   "execution_count": 1,
   "id": "546215df",
   "metadata": {},
   "outputs": [],
   "source": [
    "import pandas as pd\n",
    "import numpy as np\n",
    "from sklearn.model_selection import train_test_split\n",
    "from sklearn.preprocessing import LabelEncoder\n",
    "from sklearn.impute import SimpleImputer\n",
    "from sklearn.ensemble import RandomForestClassifier\n",
    "from sklearn.metrics import accuracy_score\n",
    "import tkinter as tk\n",
    "from tkinter import messagebox\n",
    "\n",
    "# Load the dataset\n",
    "data = pd.read_csv('loanpre.csv')"
   ]
  },
  {
   "cell_type": "code",
   "execution_count": 2,
   "id": "a6184d56",
   "metadata": {},
   "outputs": [
    {
     "name": "stderr",
     "output_type": "stream",
     "text": [
      "C:\\Users\\al\\anaconda3\\lib\\site-packages\\sklearn\\utils\\validation.py:623: FutureWarning: is_sparse is deprecated and will be removed in a future version. Check `isinstance(dtype, pd.SparseDtype)` instead.\n",
      "  if not hasattr(array, \"sparse\") and array.dtypes.apply(is_sparse).any():\n",
      "C:\\Users\\al\\anaconda3\\lib\\site-packages\\sklearn\\utils\\validation.py:623: FutureWarning: is_sparse is deprecated and will be removed in a future version. Check `isinstance(dtype, pd.SparseDtype)` instead.\n",
      "  if not hasattr(array, \"sparse\") and array.dtypes.apply(is_sparse).any():\n",
      "C:\\Users\\al\\anaconda3\\lib\\site-packages\\sklearn\\utils\\validation.py:623: FutureWarning: is_sparse is deprecated and will be removed in a future version. Check `isinstance(dtype, pd.SparseDtype)` instead.\n",
      "  if not hasattr(array, \"sparse\") and array.dtypes.apply(is_sparse).any():\n",
      "C:\\Users\\al\\anaconda3\\lib\\site-packages\\sklearn\\utils\\validation.py:623: FutureWarning: is_sparse is deprecated and will be removed in a future version. Check `isinstance(dtype, pd.SparseDtype)` instead.\n",
      "  if not hasattr(array, \"sparse\") and array.dtypes.apply(is_sparse).any():\n",
      "C:\\Users\\al\\anaconda3\\lib\\site-packages\\sklearn\\utils\\validation.py:623: FutureWarning: is_sparse is deprecated and will be removed in a future version. Check `isinstance(dtype, pd.SparseDtype)` instead.\n",
      "  if not hasattr(array, \"sparse\") and array.dtypes.apply(is_sparse).any():\n",
      "C:\\Users\\al\\anaconda3\\lib\\site-packages\\sklearn\\utils\\validation.py:623: FutureWarning: is_sparse is deprecated and will be removed in a future version. Check `isinstance(dtype, pd.SparseDtype)` instead.\n",
      "  if not hasattr(array, \"sparse\") and array.dtypes.apply(is_sparse).any():\n",
      "C:\\Users\\al\\anaconda3\\lib\\site-packages\\sklearn\\utils\\validation.py:623: FutureWarning: is_sparse is deprecated and will be removed in a future version. Check `isinstance(dtype, pd.SparseDtype)` instead.\n",
      "  if not hasattr(array, \"sparse\") and array.dtypes.apply(is_sparse).any():\n",
      "C:\\Users\\al\\anaconda3\\lib\\site-packages\\sklearn\\utils\\validation.py:623: FutureWarning: is_sparse is deprecated and will be removed in a future version. Check `isinstance(dtype, pd.SparseDtype)` instead.\n",
      "  if not hasattr(array, \"sparse\") and array.dtypes.apply(is_sparse).any():\n",
      "C:\\Users\\al\\anaconda3\\lib\\site-packages\\sklearn\\utils\\validation.py:623: FutureWarning: is_sparse is deprecated and will be removed in a future version. Check `isinstance(dtype, pd.SparseDtype)` instead.\n",
      "  if not hasattr(array, \"sparse\") and array.dtypes.apply(is_sparse).any():\n",
      "C:\\Users\\al\\anaconda3\\lib\\site-packages\\sklearn\\utils\\validation.py:623: FutureWarning: is_sparse is deprecated and will be removed in a future version. Check `isinstance(dtype, pd.SparseDtype)` instead.\n",
      "  if not hasattr(array, \"sparse\") and array.dtypes.apply(is_sparse).any():\n",
      "C:\\Users\\al\\anaconda3\\lib\\site-packages\\sklearn\\utils\\validation.py:623: FutureWarning: is_sparse is deprecated and will be removed in a future version. Check `isinstance(dtype, pd.SparseDtype)` instead.\n",
      "  if not hasattr(array, \"sparse\") and array.dtypes.apply(is_sparse).any():\n",
      "C:\\Users\\al\\anaconda3\\lib\\site-packages\\sklearn\\utils\\validation.py:623: FutureWarning: is_sparse is deprecated and will be removed in a future version. Check `isinstance(dtype, pd.SparseDtype)` instead.\n",
      "  if not hasattr(array, \"sparse\") and array.dtypes.apply(is_sparse).any():\n",
      "C:\\Users\\al\\anaconda3\\lib\\site-packages\\sklearn\\utils\\validation.py:623: FutureWarning: is_sparse is deprecated and will be removed in a future version. Check `isinstance(dtype, pd.SparseDtype)` instead.\n",
      "  if not hasattr(array, \"sparse\") and array.dtypes.apply(is_sparse).any():\n",
      "C:\\Users\\al\\anaconda3\\lib\\site-packages\\sklearn\\utils\\validation.py:623: FutureWarning: is_sparse is deprecated and will be removed in a future version. Check `isinstance(dtype, pd.SparseDtype)` instead.\n",
      "  if not hasattr(array, \"sparse\") and array.dtypes.apply(is_sparse).any():\n"
     ]
    }
   ],
   "source": [
    "# Check for any infinite values and replace them with NaN\n",
    "data.replace([np.inf, -np.inf], np.nan, inplace=True)\n",
    "\n",
    "# Fill missing values with mean for numeric features\n",
    "imputer = SimpleImputer(strategy='mean')\n",
    "data['LoanAmount'] = imputer.fit_transform(data[['LoanAmount']]).ravel()\n",
    "data['Loan_Amount_Term'] = imputer.fit_transform(data[['Loan_Amount_Term']]).ravel()\n",
    "data['Credit_History'] = imputer.fit_transform(data[['Credit_History']]).ravel()\n",
    "\n",
    "# For categorical features with missing values, fill with the most frequent value\n",
    "categorical_features = ['Gender', 'Married', 'Dependents', 'Self_Employed']\n",
    "imputer_cat = SimpleImputer(strategy='most_frequent')\n",
    "for feature in categorical_features:\n",
    "    data[feature] = imputer_cat.fit_transform(data[[feature]]).ravel()\n",
    "\n",
    "# Encode categorical variables\n",
    "label_encoder = LabelEncoder()\n",
    "data['Gender'] = label_encoder.fit_transform(data['Gender'])\n",
    "data['Married'] = label_encoder.fit_transform(data['Married'])\n",
    "data['Education'] = label_encoder.fit_transform(data['Education'])\n",
    "data['Self_Employed'] = label_encoder.fit_transform(data['Self_Employed'])\n",
    "data['Property_Area'] = label_encoder.fit_transform(data['Property_Area'])\n",
    "\n",
    "# Select features and target\n",
    "X = data[['Gender', 'Married', 'Education', 'Self_Employed', 'ApplicantIncome', 'CoapplicantIncome', 'LoanAmount', 'Loan_Amount_Term', 'Credit_History', 'Property_Area']]\n",
    "y = data['Loan_Status']\n",
    "\n",
    "# Split the data into training and testing sets\n",
    "X_train, X_test, y_train, y_test = train_test_split(X, y, test_size=0.2, random_state=42)\n",
    "\n",
    "\n"
   ]
  },
  {
   "cell_type": "markdown",
   "id": "4ab98daa",
   "metadata": {},
   "source": [
    "# Random forect classifier"
   ]
  },
  {
   "cell_type": "code",
   "execution_count": 3,
   "id": "d286eb88",
   "metadata": {},
   "outputs": [
    {
     "name": "stderr",
     "output_type": "stream",
     "text": [
      "C:\\Users\\al\\anaconda3\\lib\\site-packages\\sklearn\\utils\\validation.py:623: FutureWarning: is_sparse is deprecated and will be removed in a future version. Check `isinstance(dtype, pd.SparseDtype)` instead.\n",
      "  if not hasattr(array, \"sparse\") and array.dtypes.apply(is_sparse).any():\n",
      "C:\\Users\\al\\anaconda3\\lib\\site-packages\\sklearn\\utils\\validation.py:623: FutureWarning: is_sparse is deprecated and will be removed in a future version. Check `isinstance(dtype, pd.SparseDtype)` instead.\n",
      "  if not hasattr(array, \"sparse\") and array.dtypes.apply(is_sparse).any():\n"
     ]
    },
    {
     "name": "stdout",
     "output_type": "stream",
     "text": [
      "Accuracy: 77.24%\n"
     ]
    }
   ],
   "source": [
    "# Train the Random Forest model\n",
    "model = RandomForestClassifier(n_estimators=100, random_state=42,class_weight='balanced')\n",
    "model.fit(X_train, y_train)\n",
    "\n",
    "# Predict on the test set\n",
    "y_pred = model.predict(X_test)\n",
    "\n",
    "# Calculate the accuracy\n",
    "accuracy = accuracy_score(y_test, y_pred)\n",
    "print(f'Accuracy: {accuracy * 100:.2f}%')"
   ]
  },
  {
   "cell_type": "markdown",
   "id": "f27d6e7e",
   "metadata": {},
   "source": [
    "# Predicting loan status"
   ]
  },
  {
   "cell_type": "code",
   "execution_count": 4,
   "id": "3a34ffbd",
   "metadata": {},
   "outputs": [],
   "source": [
    "\n",
    "def predict_loan_status():\n",
    "    try:\n",
    "        gender = int(entry_gender.get())\n",
    "        married = int(entry_married.get())\n",
    "        education = int(entry_education.get())\n",
    "        self_employed = int(entry_self_employed.get())\n",
    "        applicant_income = int(entry_applicant_income.get())\n",
    "        coapplicant_income = int(entry_coapplicant_income.get())\n",
    "        loan_amount = float(entry_loan_amount.get())\n",
    "        loan_amount_term = float(entry_loan_amount_term.get())\n",
    "        credit_history = int(entry_credit_history.get())\n",
    "        property_area = int(entry_property_area.get())\n",
    "\n",
    "        new_applicant = pd.DataFrame({\n",
    "            'Gender': [gender],\n",
    "            'Married': [married],\n",
    "            'Education': [education],\n",
    "            'Self_Employed': [self_employed],\n",
    "            'ApplicantIncome': [applicant_income],\n",
    "            'CoapplicantIncome': [coapplicant_income],\n",
    "            'LoanAmount': [loan_amount],\n",
    "            'Loan_Amount_Term': [loan_amount_term],\n",
    "            'Credit_History': [credit_history],\n",
    "            'Property_Area': [property_area]\n",
    "        })\n",
    "\n",
    "        loan_status = model.predict(new_applicant)\n",
    "        print(loan_status)\n",
    "        result = \"Approved\" if loan_status == 'Y' else \"Rejected\"\n",
    "        messagebox.showinfo(\"Loan Status\", f\"Loan Status: {result}\")\n",
    "    \n",
    "    except Exception as e:\n",
    "        messagebox.showerror(\"Error\", f\"Invalid input: {e}\")"
   ]
  },
  {
   "cell_type": "markdown",
   "id": "e8c58031",
   "metadata": {},
   "source": [
    "# Graphical user interface"
   ]
  },
  {
   "cell_type": "code",
   "execution_count": 5,
   "id": "e781f872",
   "metadata": {},
   "outputs": [
    {
     "name": "stderr",
     "output_type": "stream",
     "text": [
      "C:\\Users\\al\\anaconda3\\lib\\site-packages\\sklearn\\utils\\validation.py:623: FutureWarning: is_sparse is deprecated and will be removed in a future version. Check `isinstance(dtype, pd.SparseDtype)` instead.\n",
      "  if not hasattr(array, \"sparse\") and array.dtypes.apply(is_sparse).any():\n"
     ]
    },
    {
     "name": "stdout",
     "output_type": "stream",
     "text": [
      "['N']\n"
     ]
    }
   ],
   "source": [
    "# Create the GUI\n",
    "root = tk.Tk()\n",
    "root.title(\"Loan Sanction Predictor\")\n",
    "\n",
    "# Create and place the labels and entries for the inputs\n",
    "tk.Label(root, text=\"Gender (1=Male, 0=Female)\").grid(row=0)\n",
    "tk.Label(root, text=\"Married (1=Yes, 0=No)\").grid(row=1)\n",
    "tk.Label(root, text=\"Education (0=Graduate, 1=Not Graduate)\").grid(row=2)\n",
    "tk.Label(root, text=\"Self Employed (0=No, 1=Yes)\").grid(row=3)\n",
    "tk.Label(root, text=\"Applicant Income\").grid(row=4)\n",
    "tk.Label(root, text=\"Coapplicant Income\").grid(row=5)\n",
    "tk.Label(root, text=\"Loan Amount\").grid(row=6)\n",
    "tk.Label(root, text=\"Loan Amount Term\").grid(row=7)\n",
    "tk.Label(root, text=\"Credit History (1=Good, 0=Bad)\").grid(row=8)\n",
    "tk.Label(root, text=\"Property Area (0=Urban, 1=Semiurban, 2=Rural)\").grid(row=9)\n",
    "\n",
    "entry_gender = tk.Entry(root)\n",
    "entry_married = tk.Entry(root)\n",
    "entry_education = tk.Entry(root)\n",
    "entry_self_employed = tk.Entry(root)\n",
    "entry_applicant_income = tk.Entry(root)\n",
    "entry_coapplicant_income = tk.Entry(root)\n",
    "entry_loan_amount = tk.Entry(root)\n",
    "entry_loan_amount_term = tk.Entry(root)\n",
    "entry_credit_history = tk.Entry(root)\n",
    "entry_property_area = tk.Entry(root)\n",
    "\n",
    "entry_gender.grid(row=0, column=1)\n",
    "entry_married.grid(row=1, column=1)\n",
    "entry_education.grid(row=2, column=1)\n",
    "entry_self_employed.grid(row=3, column=1)\n",
    "entry_applicant_income.grid(row=4, column=1)\n",
    "entry_coapplicant_income.grid(row=5, column=1)\n",
    "entry_loan_amount.grid(row=6, column=1)\n",
    "entry_loan_amount_term.grid(row=7, column=1)\n",
    "entry_credit_history.grid(row=8, column=1)\n",
    "entry_property_area.grid(row=9, column=1)\n",
    "\n",
    "# Create and place the Predict button\n",
    "predict_button = tk.Button(root, text=\"Predict Loan Status\", command=predict_loan_status)\n",
    "predict_button.grid(row=10, columnspan=2)\n",
    "\n",
    "root.mainloop()"
   ]
  },
  {
   "cell_type": "code",
   "execution_count": null,
   "id": "3c517708",
   "metadata": {},
   "outputs": [],
   "source": []
  }
 ],
 "metadata": {
  "kernelspec": {
   "display_name": "Python 3 (ipykernel)",
   "language": "python",
   "name": "python3"
  },
  "language_info": {
   "codemirror_mode": {
    "name": "ipython",
    "version": 3
   },
   "file_extension": ".py",
   "mimetype": "text/x-python",
   "name": "python",
   "nbconvert_exporter": "python",
   "pygments_lexer": "ipython3",
   "version": "3.9.12"
  }
 },
 "nbformat": 4,
 "nbformat_minor": 5
}
